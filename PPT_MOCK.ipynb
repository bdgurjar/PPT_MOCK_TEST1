{
 "cells": [
  {
   "cell_type": "code",
   "execution_count": 2,
   "id": "dc40c7cd-bdf9-4d72-ae7f-0f3dbe34820e",
   "metadata": {},
   "outputs": [
    {
     "name": "stdout",
     "output_type": "stream",
     "text": [
      "0\n",
      "2\n",
      "-1\n"
     ]
    }
   ],
   "source": [
    "def firstUniqChar(s):\n",
    "    char_count = {}\n",
    "    \n",
    "    for char in s:\n",
    "        if char in char_count:\n",
    "            char_count[char] += 1\n",
    "        else:\n",
    "            char_count[char] = 1\n",
    "    \n",
    "    for i in range(len(s)):\n",
    "        if char_count[s[i]] == 1:\n",
    "            return i\n",
    "    \n",
    "    return -1\n",
    "\n",
    "s = \"leetcode\"\n",
    "print(firstUniqChar(s))  \n",
    "\n",
    "s = \"loveleetcode\"\n",
    "print(firstUniqChar(s))  \n",
    "\n",
    "s = \"aabb\"\n",
    "print(firstUniqChar(s))  "
   ]
  },
  {
   "cell_type": "code",
   "execution_count": null,
   "id": "5f0a7b5e-32d7-41d8-82a2-f60e43846e07",
   "metadata": {},
   "outputs": [],
   "source": []
  }
 ],
 "metadata": {
  "kernelspec": {
   "display_name": "Python 3 (ipykernel)",
   "language": "python",
   "name": "python3"
  },
  "language_info": {
   "codemirror_mode": {
    "name": "ipython",
    "version": 3
   },
   "file_extension": ".py",
   "mimetype": "text/x-python",
   "name": "python",
   "nbconvert_exporter": "python",
   "pygments_lexer": "ipython3",
   "version": "3.10.6"
  }
 },
 "nbformat": 4,
 "nbformat_minor": 5
}
